{
 "cells": [
  {
   "cell_type": "markdown",
   "id": "5797de4d-3f61-423a-8fb2-383a427c91c9",
   "metadata": {},
   "source": [
    "# True ve False birşeyin doğrumu yanlışmı olduğunu belirtmemizi sağlar, aynı zamanda bilgiye göre programın akışını belirlememizi sağlar."
   ]
  },
  {
   "cell_type": "code",
   "execution_count": 3,
   "id": "cb559ab4-7e3a-4d3f-a70f-9ed1b0f810a4",
   "metadata": {},
   "outputs": [],
   "source": [
    "winner = True"
   ]
  },
  {
   "cell_type": "code",
   "execution_count": 5,
   "id": "d867c8e3-faba-44f7-ad46-8794201afc5c",
   "metadata": {},
   "outputs": [],
   "source": [
    "lose = False"
   ]
  },
  {
   "cell_type": "code",
   "execution_count": 7,
   "id": "e6f22602-766a-4200-bd6b-a6e4212cf776",
   "metadata": {},
   "outputs": [
    {
     "data": {
      "text/plain": [
       "True"
      ]
     },
     "execution_count": 7,
     "metadata": {},
     "output_type": "execute_result"
    }
   ],
   "source": [
    "winner >lose"
   ]
  },
  {
   "cell_type": "code",
   "execution_count": 9,
   "id": "b24d7069-bd9b-409a-8ce2-c954e033180f",
   "metadata": {},
   "outputs": [
    {
     "data": {
      "text/plain": [
       "False"
      ]
     },
     "execution_count": 9,
     "metadata": {},
     "output_type": "execute_result"
    }
   ],
   "source": [
    "lose>winner"
   ]
  },
  {
   "cell_type": "code",
   "execution_count": 11,
   "id": "4079591c-dbfe-45f0-8cfa-fb629d9ebb86",
   "metadata": {},
   "outputs": [],
   "source": [
    "man = True"
   ]
  },
  {
   "cell_type": "code",
   "execution_count": 13,
   "id": "79c825dc-7916-469b-b35b-6c8a253e5a10",
   "metadata": {},
   "outputs": [],
   "source": [
    "fighting = True"
   ]
  },
  {
   "cell_type": "code",
   "execution_count": 15,
   "id": "06c1c2b4-b5f4-4bed-a254-a7a8d21fbdd0",
   "metadata": {},
   "outputs": [],
   "source": [
    "bleeding = False\n"
   ]
  },
  {
   "cell_type": "code",
   "execution_count": 17,
   "id": "810762e7-2a46-4998-ae6f-3ed201a437b1",
   "metadata": {},
   "outputs": [],
   "source": [
    "and_die = True"
   ]
  },
  {
   "cell_type": "code",
   "execution_count": 23,
   "id": "49ead9f8-695f-41c1-ac6e-e3677dd763d7",
   "metadata": {},
   "outputs": [
    {
     "data": {
      "text/plain": [
       "True"
      ]
     },
     "execution_count": 23,
     "metadata": {},
     "output_type": "execute_result"
    }
   ],
   "source": [
    "man > fighting\n",
    "winner >lose\n",
    "bleeding < and_die"
   ]
  },
  {
   "cell_type": "code",
   "execution_count": null,
   "id": "90d7d8df-bf41-429a-b0b1-6e2203374350",
   "metadata": {},
   "outputs": [],
   "source": []
  }
 ],
 "metadata": {
  "kernelspec": {
   "display_name": "Python 3 (ipykernel)",
   "language": "python",
   "name": "python3"
  },
  "language_info": {
   "codemirror_mode": {
    "name": "ipython",
    "version": 3
   },
   "file_extension": ".py",
   "mimetype": "text/x-python",
   "name": "python",
   "nbconvert_exporter": "python",
   "pygments_lexer": "ipython3",
   "version": "3.12.4"
  }
 },
 "nbformat": 4,
 "nbformat_minor": 5
}
